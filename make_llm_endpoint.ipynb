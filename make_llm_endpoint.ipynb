{
 "cells": [
  {
   "cell_type": "code",
   "execution_count": null,
   "metadata": {},
   "outputs": [
    {
     "data": {
      "text/html": [
       "<pre style=\"white-space:pre;overflow-x:auto;line-height:normal;font-family:Menlo,'DejaVu Sans Mono',consolas,'Courier New',monospace\"><span style=\"color: #7fbfbf; text-decoration-color: #7fbfbf\">[12/16/24 11:30:07] </span><span style=\"color: #d7af00; text-decoration-color: #d7af00; font-weight: bold\">WARNING </span> Couldn't call <span style=\"color: #008700; text-decoration-color: #008700\">'get_role'</span> to get Role ARN from role name sagemaker-user <a href=\"file:///Users/benjaminbasseri/miniforge3/envs/sagemaker/lib/python3.12/site-packages/sagemaker/session.py\" target=\"_blank\"><span style=\"color: #7f7f7f; text-decoration-color: #7f7f7f\">session.py</span></a><span style=\"color: #7f7f7f; text-decoration-color: #7f7f7f\">:</span><a href=\"file:///Users/benjaminbasseri/miniforge3/envs/sagemaker/lib/python3.12/site-packages/sagemaker/session.py#5902\" target=\"_blank\"><span style=\"color: #7f7f7f; text-decoration-color: #7f7f7f\">5902</span></a>\n",
       "<span style=\"color: #7fbfbf; text-decoration-color: #7fbfbf\">                    </span>         to get Role path.                                                      <span style=\"color: #7f7f7f; text-decoration-color: #7f7f7f\">               </span>\n",
       "</pre>\n"
      ],
      "text/plain": [
       "\u001b[2;36m[12/16/24 11:30:07]\u001b[0m\u001b[2;36m \u001b[0m\u001b[1;38;2;215;175;0mWARNING \u001b[0m Couldn't call \u001b[38;2;0;135;0m'get_role'\u001b[0m to get Role ARN from role name sagemaker-user \u001b]8;id=335561;file:///Users/benjaminbasseri/miniforge3/envs/sagemaker/lib/python3.12/site-packages/sagemaker/session.py\u001b\\\u001b[2msession.py\u001b[0m\u001b]8;;\u001b\\\u001b[2m:\u001b[0m\u001b]8;id=344829;file:///Users/benjaminbasseri/miniforge3/envs/sagemaker/lib/python3.12/site-packages/sagemaker/session.py#5902\u001b\\\u001b[2m5902\u001b[0m\u001b]8;;\u001b\\\n",
       "\u001b[2;36m                    \u001b[0m         to get Role path.                                                      \u001b[2m               \u001b[0m\n"
      ]
     },
     "metadata": {},
     "output_type": "display_data"
    },
    {
     "name": "stdout",
     "output_type": "stream",
     "text": [
      "Role: arn:aws:iam::993678079972:role/sagemaker-user\n"
     ]
    }
   ],
   "source": [
    "import json\n",
    "import sagemaker\n",
    "import boto3\n",
    "import os\n",
    "from pprint import pprint\n",
    "from sagemaker.huggingface import HuggingFaceModel, get_huggingface_llm_image_uri\n",
    "from sagemaker.serverless import ServerlessInferenceConfig\n",
    "\n",
    "\"\"\"\n",
    "Be sure to set these environment variables:\n",
    "os.environ['AWS_PROFILE'] = your-sagemaker-aws-profile in ./aws/config\n",
    "os.environ['HF_TOKEN'] = your-hugging-face-access-token\n",
    "\"\"\"\n",
    "role = sagemaker.get_execution_role()\n",
    "\n",
    "hub = {\n",
    "\t'HF_MODEL_ID': 'meta-llama/Llama-3.2-1B-Instruct',\n",
    "\t'SM_NUM_GPUS': json.dumps(1),\n",
    "\t'HUGGING_FACE_HUB_TOKEN': os.getenv('HF_TOKEN')\n",
    "\t}\n",
    "\n",
    "print(f\"Role: {role}\")\n",
    "\n"
   ]
  },
  {
   "cell_type": "code",
   "execution_count": 19,
   "metadata": {},
   "outputs": [
    {
     "data": {
      "text/html": [
       "<pre style=\"white-space:pre;overflow-x:auto;line-height:normal;font-family:Menlo,'DejaVu Sans Mono',consolas,'Courier New',monospace\"><span style=\"color: #ff0000; text-decoration-color: #ff0000\">╭─────────────────────────────── </span><span style=\"color: #ff0000; text-decoration-color: #ff0000; font-weight: bold\">Traceback </span><span style=\"color: #ff7f7f; text-decoration-color: #ff7f7f; font-weight: bold\">(most recent call last)</span><span style=\"color: #ff0000; text-decoration-color: #ff0000\"> ────────────────────────────────╮</span>\n",
       "<span style=\"color: #ff0000; text-decoration-color: #ff0000\">│</span> in <span style=\"color: #00ff00; text-decoration-color: #00ff00\">&lt;module&gt;</span>:<span style=\"color: #0000ff; text-decoration-color: #0000ff\">3</span>                                                                                    <span style=\"color: #ff0000; text-decoration-color: #ff0000\">│</span>\n",
       "<span style=\"color: #ff0000; text-decoration-color: #ff0000\">│</span>                                                                                                  <span style=\"color: #ff0000; text-decoration-color: #ff0000\">│</span>\n",
       "<span style=\"color: #ff0000; text-decoration-color: #ff0000\">│</span>   <span style=\"color: #7f7f7f; text-decoration-color: #7f7f7f\">1 # Delete previous endpoint</span>                                                                   <span style=\"color: #ff0000; text-decoration-color: #ff0000\">│</span>\n",
       "<span style=\"color: #ff0000; text-decoration-color: #ff0000\">│</span>   <span style=\"color: #7f7f7f; text-decoration-color: #7f7f7f\">2 </span>sagemaker_client = boto3.client(<span style=\"color: #808000; text-decoration-color: #808000\">\"sagemaker\"</span>, region_name=<span style=\"color: #808000; text-decoration-color: #808000\">'us-east-1'</span>)                        <span style=\"color: #ff0000; text-decoration-color: #ff0000\">│</span>\n",
       "<span style=\"color: #ff0000; text-decoration-color: #ff0000\">│</span> <span style=\"color: #800000; text-decoration-color: #800000\">❱ </span>3 <span style=\"font-weight: bold; text-decoration: underline\">sagemaker_client.delete_endpoint(EndpointName=</span><span style=\"color: #808000; text-decoration-color: #808000; font-weight: bold; text-decoration: underline\">\"llama-1b-endpoint\"</span><span style=\"font-weight: bold; text-decoration: underline\">)</span>                           <span style=\"color: #ff0000; text-decoration-color: #ff0000\">│</span>\n",
       "<span style=\"color: #ff0000; text-decoration-color: #ff0000\">│</span>   <span style=\"color: #7f7f7f; text-decoration-color: #7f7f7f\">4 </span>sagemaker_client.delete_endpoint_config(EndpointConfigName=<span style=\"color: #808000; text-decoration-color: #808000\">\"llama-1b-endpoint\"</span>)              <span style=\"color: #ff0000; text-decoration-color: #ff0000\">│</span>\n",
       "<span style=\"color: #ff0000; text-decoration-color: #ff0000\">│</span>   <span style=\"color: #7f7f7f; text-decoration-color: #7f7f7f\">5 </span>                                                                                             <span style=\"color: #ff0000; text-decoration-color: #ff0000\">│</span>\n",
       "<span style=\"color: #ff0000; text-decoration-color: #ff0000\">│</span>                                                                                                  <span style=\"color: #ff0000; text-decoration-color: #ff0000\">│</span>\n",
       "<span style=\"color: #ff0000; text-decoration-color: #ff0000\">│</span> <span style=\"color: #bfbf7f; text-decoration-color: #bfbf7f\">/Users/benjaminbasseri/miniforge3/envs/sagemaker/lib/python3.12/site-packages/botocore/</span><span style=\"color: #808000; text-decoration-color: #808000; font-weight: bold\">client.py</span> <span style=\"color: #ff0000; text-decoration-color: #ff0000\">│</span>\n",
       "<span style=\"color: #ff0000; text-decoration-color: #ff0000\">│</span> :<span style=\"color: #0000ff; text-decoration-color: #0000ff\">569</span> in <span style=\"color: #00ff00; text-decoration-color: #00ff00\">_api_call</span>                                                                                <span style=\"color: #ff0000; text-decoration-color: #ff0000\">│</span>\n",
       "<span style=\"color: #ff0000; text-decoration-color: #ff0000\">│</span>                                                                                                  <span style=\"color: #ff0000; text-decoration-color: #ff0000\">│</span>\n",
       "<span style=\"color: #ff0000; text-decoration-color: #ff0000\">│</span>   <span style=\"color: #7f7f7f; text-decoration-color: #7f7f7f\"> 566 </span><span style=\"color: #7f7f7f; text-decoration-color: #7f7f7f\">│   │   │   │   │   </span><span style=\"color: #808000; text-decoration-color: #808000\">f\"{</span>py_operation_name<span style=\"color: #808000; text-decoration-color: #808000\">}() only accepts keyword arguments.\"</span>              <span style=\"color: #ff0000; text-decoration-color: #ff0000\">│</span>\n",
       "<span style=\"color: #ff0000; text-decoration-color: #ff0000\">│</span>   <span style=\"color: #7f7f7f; text-decoration-color: #7f7f7f\"> 567 </span><span style=\"color: #7f7f7f; text-decoration-color: #7f7f7f\">│   │   │   │   </span>)                                                                         <span style=\"color: #ff0000; text-decoration-color: #ff0000\">│</span>\n",
       "<span style=\"color: #ff0000; text-decoration-color: #ff0000\">│</span>   <span style=\"color: #7f7f7f; text-decoration-color: #7f7f7f\"> 568 </span><span style=\"color: #7f7f7f; text-decoration-color: #7f7f7f\">│   │   │   </span><span style=\"color: #7f7f7f; text-decoration-color: #7f7f7f\"># The \"self\" in this scope is referring to the BaseClient.</span>                    <span style=\"color: #ff0000; text-decoration-color: #ff0000\">│</span>\n",
       "<span style=\"color: #ff0000; text-decoration-color: #ff0000\">│</span> <span style=\"color: #800000; text-decoration-color: #800000\">❱ </span> 569 <span style=\"color: #7f7f7f; text-decoration-color: #7f7f7f\">│   │   │   </span><span style=\"color: #0000ff; text-decoration-color: #0000ff\">return</span> <span style=\"color: #00ffff; text-decoration-color: #00ffff; font-weight: bold; text-decoration: underline\">self</span><span style=\"font-weight: bold; text-decoration: underline\">._make_api_call(operation_name, kwargs)</span>                            <span style=\"color: #ff0000; text-decoration-color: #ff0000\">│</span>\n",
       "<span style=\"color: #ff0000; text-decoration-color: #ff0000\">│</span>   <span style=\"color: #7f7f7f; text-decoration-color: #7f7f7f\"> 570 </span><span style=\"color: #7f7f7f; text-decoration-color: #7f7f7f\">│   │   </span>                                                                                  <span style=\"color: #ff0000; text-decoration-color: #ff0000\">│</span>\n",
       "<span style=\"color: #ff0000; text-decoration-color: #ff0000\">│</span>   <span style=\"color: #7f7f7f; text-decoration-color: #7f7f7f\"> 571 </span><span style=\"color: #7f7f7f; text-decoration-color: #7f7f7f\">│   │   </span>_api_call.<span style=\"color: #ff0000; text-decoration-color: #ff0000\">__name__</span> = <span style=\"color: #00ffff; text-decoration-color: #00ffff\">str</span>(py_operation_name)                                       <span style=\"color: #ff0000; text-decoration-color: #ff0000\">│</span>\n",
       "<span style=\"color: #ff0000; text-decoration-color: #ff0000\">│</span>   <span style=\"color: #7f7f7f; text-decoration-color: #7f7f7f\"> 572 </span>                                                                                          <span style=\"color: #ff0000; text-decoration-color: #ff0000\">│</span>\n",
       "<span style=\"color: #ff0000; text-decoration-color: #ff0000\">│</span>                                                                                                  <span style=\"color: #ff0000; text-decoration-color: #ff0000\">│</span>\n",
       "<span style=\"color: #ff0000; text-decoration-color: #ff0000\">│</span> <span style=\"color: #bfbf7f; text-decoration-color: #bfbf7f\">/Users/benjaminbasseri/miniforge3/envs/sagemaker/lib/python3.12/site-packages/botocore/</span><span style=\"color: #808000; text-decoration-color: #808000; font-weight: bold\">client.py</span> <span style=\"color: #ff0000; text-decoration-color: #ff0000\">│</span>\n",
       "<span style=\"color: #ff0000; text-decoration-color: #ff0000\">│</span> :<span style=\"color: #0000ff; text-decoration-color: #0000ff\">1023</span> in <span style=\"color: #00ff00; text-decoration-color: #00ff00\">_make_api_call</span>                                                                          <span style=\"color: #ff0000; text-decoration-color: #ff0000\">│</span>\n",
       "<span style=\"color: #ff0000; text-decoration-color: #ff0000\">│</span>                                                                                                  <span style=\"color: #ff0000; text-decoration-color: #ff0000\">│</span>\n",
       "<span style=\"color: #ff0000; text-decoration-color: #ff0000\">│</span>   <span style=\"color: #7f7f7f; text-decoration-color: #7f7f7f\">1020 </span><span style=\"color: #7f7f7f; text-decoration-color: #7f7f7f\">│   │   │   │   </span><span style=\"color: #808000; text-decoration-color: #808000\">\"Code\"</span>                                                                    <span style=\"color: #ff0000; text-decoration-color: #ff0000\">│</span>\n",
       "<span style=\"color: #ff0000; text-decoration-color: #ff0000\">│</span>   <span style=\"color: #7f7f7f; text-decoration-color: #7f7f7f\">1021 </span><span style=\"color: #7f7f7f; text-decoration-color: #7f7f7f\">│   │   │   </span>)                                                                             <span style=\"color: #ff0000; text-decoration-color: #ff0000\">│</span>\n",
       "<span style=\"color: #ff0000; text-decoration-color: #ff0000\">│</span>   <span style=\"color: #7f7f7f; text-decoration-color: #7f7f7f\">1022 </span><span style=\"color: #7f7f7f; text-decoration-color: #7f7f7f\">│   │   │   </span>error_class = <span style=\"color: #00ffff; text-decoration-color: #00ffff\">self</span>.exceptions.from_code(error_code)                           <span style=\"color: #ff0000; text-decoration-color: #ff0000\">│</span>\n",
       "<span style=\"color: #ff0000; text-decoration-color: #ff0000\">│</span> <span style=\"color: #800000; text-decoration-color: #800000\">❱ </span>1023 <span style=\"color: #7f7f7f; text-decoration-color: #7f7f7f\">│   │   │   </span><span style=\"color: #0000ff; text-decoration-color: #0000ff; font-weight: bold; text-decoration: underline\">raise</span><span style=\"font-weight: bold; text-decoration: underline\"> error_class(parsed_response, operation_name)</span>                            <span style=\"color: #ff0000; text-decoration-color: #ff0000\">│</span>\n",
       "<span style=\"color: #ff0000; text-decoration-color: #ff0000\">│</span>   <span style=\"color: #7f7f7f; text-decoration-color: #7f7f7f\">1024 </span><span style=\"color: #7f7f7f; text-decoration-color: #7f7f7f\">│   │   </span><span style=\"color: #0000ff; text-decoration-color: #0000ff\">else</span>:                                                                             <span style=\"color: #ff0000; text-decoration-color: #ff0000\">│</span>\n",
       "<span style=\"color: #ff0000; text-decoration-color: #ff0000\">│</span>   <span style=\"color: #7f7f7f; text-decoration-color: #7f7f7f\">1025 </span><span style=\"color: #7f7f7f; text-decoration-color: #7f7f7f\">│   │   │   </span><span style=\"color: #0000ff; text-decoration-color: #0000ff\">return</span> parsed_response                                                        <span style=\"color: #ff0000; text-decoration-color: #ff0000\">│</span>\n",
       "<span style=\"color: #ff0000; text-decoration-color: #ff0000\">│</span>   <span style=\"color: #7f7f7f; text-decoration-color: #7f7f7f\">1026 </span>                                                                                          <span style=\"color: #ff0000; text-decoration-color: #ff0000\">│</span>\n",
       "<span style=\"color: #ff0000; text-decoration-color: #ff0000\">╰──────────────────────────────────────────────────────────────────────────────────────────────────╯</span>\n",
       "<span style=\"color: #ff0000; text-decoration-color: #ff0000; font-weight: bold\">ClientError: </span>An error occurred <span style=\"font-weight: bold\">(</span>ValidationException<span style=\"font-weight: bold\">)</span> when calling the DeleteEndpoint operation: Could not find \n",
       "endpoint <span style=\"color: #008700; text-decoration-color: #008700\">\"llama-1b-endpoint\"</span>.\n",
       "</pre>\n"
      ],
      "text/plain": [
       "\u001b[38;2;255;0;0m╭─\u001b[0m\u001b[38;2;255;0;0m──────────────────────────────\u001b[0m\u001b[38;2;255;0;0m \u001b[0m\u001b[1;38;2;255;0;0mTraceback \u001b[0m\u001b[1;2;38;2;255;0;0m(most recent call last)\u001b[0m\u001b[38;2;255;0;0m \u001b[0m\u001b[38;2;255;0;0m───────────────────────────────\u001b[0m\u001b[38;2;255;0;0m─╮\u001b[0m\n",
       "\u001b[38;2;255;0;0m│\u001b[0m in \u001b[92m<module>\u001b[0m:\u001b[94m3\u001b[0m                                                                                    \u001b[38;2;255;0;0m│\u001b[0m\n",
       "\u001b[38;2;255;0;0m│\u001b[0m                                                                                                  \u001b[38;2;255;0;0m│\u001b[0m\n",
       "\u001b[38;2;255;0;0m│\u001b[0m   \u001b[2m1 \u001b[0m\u001b[2m# Delete previous endpoint\u001b[0m                                                                   \u001b[38;2;255;0;0m│\u001b[0m\n",
       "\u001b[38;2;255;0;0m│\u001b[0m   \u001b[2m2 \u001b[0msagemaker_client = boto3.client(\u001b[33m\"\u001b[0m\u001b[33msagemaker\u001b[0m\u001b[33m\"\u001b[0m, region_name=\u001b[33m'\u001b[0m\u001b[33mus-east-1\u001b[0m\u001b[33m'\u001b[0m)                        \u001b[38;2;255;0;0m│\u001b[0m\n",
       "\u001b[38;2;255;0;0m│\u001b[0m \u001b[31m❱ \u001b[0m3 \u001b[1;4msagemaker_client.delete_endpoint(EndpointName=\u001b[0m\u001b[1;4;33m\"\u001b[0m\u001b[1;4;33mllama-1b-endpoint\u001b[0m\u001b[1;4;33m\"\u001b[0m\u001b[1;4m)\u001b[0m                           \u001b[38;2;255;0;0m│\u001b[0m\n",
       "\u001b[38;2;255;0;0m│\u001b[0m   \u001b[2m4 \u001b[0msagemaker_client.delete_endpoint_config(EndpointConfigName=\u001b[33m\"\u001b[0m\u001b[33mllama-1b-endpoint\u001b[0m\u001b[33m\"\u001b[0m)              \u001b[38;2;255;0;0m│\u001b[0m\n",
       "\u001b[38;2;255;0;0m│\u001b[0m   \u001b[2m5 \u001b[0m                                                                                             \u001b[38;2;255;0;0m│\u001b[0m\n",
       "\u001b[38;2;255;0;0m│\u001b[0m                                                                                                  \u001b[38;2;255;0;0m│\u001b[0m\n",
       "\u001b[38;2;255;0;0m│\u001b[0m \u001b[2;33m/Users/benjaminbasseri/miniforge3/envs/sagemaker/lib/python3.12/site-packages/botocore/\u001b[0m\u001b[1;33mclient.py\u001b[0m \u001b[38;2;255;0;0m│\u001b[0m\n",
       "\u001b[38;2;255;0;0m│\u001b[0m :\u001b[94m569\u001b[0m in \u001b[92m_api_call\u001b[0m                                                                                \u001b[38;2;255;0;0m│\u001b[0m\n",
       "\u001b[38;2;255;0;0m│\u001b[0m                                                                                                  \u001b[38;2;255;0;0m│\u001b[0m\n",
       "\u001b[38;2;255;0;0m│\u001b[0m   \u001b[2m 566 \u001b[0m\u001b[2m│   │   │   │   │   \u001b[0m\u001b[33mf\u001b[0m\u001b[33m\"\u001b[0m\u001b[33m{\u001b[0mpy_operation_name\u001b[33m}\u001b[0m\u001b[33m() only accepts keyword arguments.\u001b[0m\u001b[33m\"\u001b[0m              \u001b[38;2;255;0;0m│\u001b[0m\n",
       "\u001b[38;2;255;0;0m│\u001b[0m   \u001b[2m 567 \u001b[0m\u001b[2m│   │   │   │   \u001b[0m)                                                                         \u001b[38;2;255;0;0m│\u001b[0m\n",
       "\u001b[38;2;255;0;0m│\u001b[0m   \u001b[2m 568 \u001b[0m\u001b[2m│   │   │   \u001b[0m\u001b[2m# The \"self\" in this scope is referring to the BaseClient.\u001b[0m                    \u001b[38;2;255;0;0m│\u001b[0m\n",
       "\u001b[38;2;255;0;0m│\u001b[0m \u001b[31m❱ \u001b[0m 569 \u001b[2m│   │   │   \u001b[0m\u001b[94mreturn\u001b[0m \u001b[1;4;96mself\u001b[0m\u001b[1;4m._make_api_call(operation_name, kwargs)\u001b[0m                            \u001b[38;2;255;0;0m│\u001b[0m\n",
       "\u001b[38;2;255;0;0m│\u001b[0m   \u001b[2m 570 \u001b[0m\u001b[2m│   │   \u001b[0m                                                                                  \u001b[38;2;255;0;0m│\u001b[0m\n",
       "\u001b[38;2;255;0;0m│\u001b[0m   \u001b[2m 571 \u001b[0m\u001b[2m│   │   \u001b[0m_api_call.\u001b[91m__name__\u001b[0m = \u001b[96mstr\u001b[0m(py_operation_name)                                       \u001b[38;2;255;0;0m│\u001b[0m\n",
       "\u001b[38;2;255;0;0m│\u001b[0m   \u001b[2m 572 \u001b[0m                                                                                          \u001b[38;2;255;0;0m│\u001b[0m\n",
       "\u001b[38;2;255;0;0m│\u001b[0m                                                                                                  \u001b[38;2;255;0;0m│\u001b[0m\n",
       "\u001b[38;2;255;0;0m│\u001b[0m \u001b[2;33m/Users/benjaminbasseri/miniforge3/envs/sagemaker/lib/python3.12/site-packages/botocore/\u001b[0m\u001b[1;33mclient.py\u001b[0m \u001b[38;2;255;0;0m│\u001b[0m\n",
       "\u001b[38;2;255;0;0m│\u001b[0m :\u001b[94m1023\u001b[0m in \u001b[92m_make_api_call\u001b[0m                                                                          \u001b[38;2;255;0;0m│\u001b[0m\n",
       "\u001b[38;2;255;0;0m│\u001b[0m                                                                                                  \u001b[38;2;255;0;0m│\u001b[0m\n",
       "\u001b[38;2;255;0;0m│\u001b[0m   \u001b[2m1020 \u001b[0m\u001b[2m│   │   │   │   \u001b[0m\u001b[33m\"\u001b[0m\u001b[33mCode\u001b[0m\u001b[33m\"\u001b[0m                                                                    \u001b[38;2;255;0;0m│\u001b[0m\n",
       "\u001b[38;2;255;0;0m│\u001b[0m   \u001b[2m1021 \u001b[0m\u001b[2m│   │   │   \u001b[0m)                                                                             \u001b[38;2;255;0;0m│\u001b[0m\n",
       "\u001b[38;2;255;0;0m│\u001b[0m   \u001b[2m1022 \u001b[0m\u001b[2m│   │   │   \u001b[0merror_class = \u001b[96mself\u001b[0m.exceptions.from_code(error_code)                           \u001b[38;2;255;0;0m│\u001b[0m\n",
       "\u001b[38;2;255;0;0m│\u001b[0m \u001b[31m❱ \u001b[0m1023 \u001b[2m│   │   │   \u001b[0m\u001b[1;4;94mraise\u001b[0m\u001b[1;4m error_class(parsed_response, operation_name)\u001b[0m                            \u001b[38;2;255;0;0m│\u001b[0m\n",
       "\u001b[38;2;255;0;0m│\u001b[0m   \u001b[2m1024 \u001b[0m\u001b[2m│   │   \u001b[0m\u001b[94melse\u001b[0m:                                                                             \u001b[38;2;255;0;0m│\u001b[0m\n",
       "\u001b[38;2;255;0;0m│\u001b[0m   \u001b[2m1025 \u001b[0m\u001b[2m│   │   │   \u001b[0m\u001b[94mreturn\u001b[0m parsed_response                                                        \u001b[38;2;255;0;0m│\u001b[0m\n",
       "\u001b[38;2;255;0;0m│\u001b[0m   \u001b[2m1026 \u001b[0m                                                                                          \u001b[38;2;255;0;0m│\u001b[0m\n",
       "\u001b[38;2;255;0;0m╰──────────────────────────────────────────────────────────────────────────────────────────────────╯\u001b[0m\n",
       "\u001b[1;91mClientError: \u001b[0mAn error occurred \u001b[1m(\u001b[0mValidationException\u001b[1m)\u001b[0m when calling the DeleteEndpoint operation: Could not find \n",
       "endpoint \u001b[38;2;0;135;0m\"llama-1b-endpoint\"\u001b[0m.\n"
      ]
     },
     "metadata": {},
     "output_type": "display_data"
    }
   ],
   "source": [
    "# Delete previous endpoint\n",
    "sagemaker_client = boto3.client(\"sagemaker\", region_name='us-east-1')\n",
    "sagemaker_client.delete_endpoint(EndpointName=\"llama-1b-endpoint\")\n",
    "sagemaker_client.delete_endpoint_config(EndpointConfigName=\"llama-1b-endpoint\")"
   ]
  },
  {
   "cell_type": "code",
   "execution_count": 20,
   "metadata": {},
   "outputs": [
    {
     "data": {
      "text/html": [
       "<pre style=\"white-space:pre;overflow-x:auto;line-height:normal;font-family:Menlo,'DejaVu Sans Mono',consolas,'Courier New',monospace\"><span style=\"color: #7fbfbf; text-decoration-color: #7fbfbf\">[12/16/24 11:30:11] </span><span style=\"color: #0069ff; text-decoration-color: #0069ff; font-weight: bold\">INFO    </span> Defaulting to only available Python version: py311                   <a href=\"file:///Users/benjaminbasseri/miniforge3/envs/sagemaker/lib/python3.12/site-packages/sagemaker/image_uris.py\" target=\"_blank\"><span style=\"color: #7f7f7f; text-decoration-color: #7f7f7f\">image_uris.py</span></a><span style=\"color: #7f7f7f; text-decoration-color: #7f7f7f\">:</span><a href=\"file:///Users/benjaminbasseri/miniforge3/envs/sagemaker/lib/python3.12/site-packages/sagemaker/image_uris.py#603\" target=\"_blank\"><span style=\"color: #7f7f7f; text-decoration-color: #7f7f7f\">603</span></a>\n",
       "</pre>\n"
      ],
      "text/plain": [
       "\u001b[2;36m[12/16/24 11:30:11]\u001b[0m\u001b[2;36m \u001b[0m\u001b[1;38;2;0;105;255mINFO    \u001b[0m Defaulting to only available Python version: py311                   \u001b]8;id=866257;file:///Users/benjaminbasseri/miniforge3/envs/sagemaker/lib/python3.12/site-packages/sagemaker/image_uris.py\u001b\\\u001b[2mimage_uris.py\u001b[0m\u001b]8;;\u001b\\\u001b[2m:\u001b[0m\u001b]8;id=278041;file:///Users/benjaminbasseri/miniforge3/envs/sagemaker/lib/python3.12/site-packages/sagemaker/image_uris.py#603\u001b\\\u001b[2m603\u001b[0m\u001b]8;;\u001b\\\n"
      ]
     },
     "metadata": {},
     "output_type": "display_data"
    },
    {
     "data": {
      "text/html": [
       "<pre style=\"white-space:pre;overflow-x:auto;line-height:normal;font-family:Menlo,'DejaVu Sans Mono',consolas,'Courier New',monospace\"><span style=\"color: #7fbfbf; text-decoration-color: #7fbfbf\">                    </span><span style=\"color: #0069ff; text-decoration-color: #0069ff; font-weight: bold\">INFO    </span> Defaulting to only supported image scope: gpu.                       <a href=\"file:///Users/benjaminbasseri/miniforge3/envs/sagemaker/lib/python3.12/site-packages/sagemaker/image_uris.py\" target=\"_blank\"><span style=\"color: #7f7f7f; text-decoration-color: #7f7f7f\">image_uris.py</span></a><span style=\"color: #7f7f7f; text-decoration-color: #7f7f7f\">:</span><a href=\"file:///Users/benjaminbasseri/miniforge3/envs/sagemaker/lib/python3.12/site-packages/sagemaker/image_uris.py#527\" target=\"_blank\"><span style=\"color: #7f7f7f; text-decoration-color: #7f7f7f\">527</span></a>\n",
       "</pre>\n"
      ],
      "text/plain": [
       "\u001b[2;36m                   \u001b[0m\u001b[2;36m \u001b[0m\u001b[1;38;2;0;105;255mINFO    \u001b[0m Defaulting to only supported image scope: gpu.                       \u001b]8;id=298573;file:///Users/benjaminbasseri/miniforge3/envs/sagemaker/lib/python3.12/site-packages/sagemaker/image_uris.py\u001b\\\u001b[2mimage_uris.py\u001b[0m\u001b]8;;\u001b\\\u001b[2m:\u001b[0m\u001b]8;id=589961;file:///Users/benjaminbasseri/miniforge3/envs/sagemaker/lib/python3.12/site-packages/sagemaker/image_uris.py#527\u001b\\\u001b[2m527\u001b[0m\u001b]8;;\u001b\\\n"
      ]
     },
     "metadata": {},
     "output_type": "display_data"
    },
    {
     "data": {
      "text/html": [
       "<pre style=\"white-space:pre;overflow-x:auto;line-height:normal;font-family:Menlo,'DejaVu Sans Mono',consolas,'Courier New',monospace\"><span style=\"color: #7fbfbf; text-decoration-color: #7fbfbf\">[12/16/24 11:30:12] </span><span style=\"color: #0069ff; text-decoration-color: #0069ff; font-weight: bold\">INFO    </span> Creating model with name:                                              <a href=\"file:///Users/benjaminbasseri/miniforge3/envs/sagemaker/lib/python3.12/site-packages/sagemaker/session.py\" target=\"_blank\"><span style=\"color: #7f7f7f; text-decoration-color: #7f7f7f\">session.py</span></a><span style=\"color: #7f7f7f; text-decoration-color: #7f7f7f\">:</span><a href=\"file:///Users/benjaminbasseri/miniforge3/envs/sagemaker/lib/python3.12/site-packages/sagemaker/session.py#4025\" target=\"_blank\"><span style=\"color: #7f7f7f; text-decoration-color: #7f7f7f\">4025</span></a>\n",
       "<span style=\"color: #7fbfbf; text-decoration-color: #7fbfbf\">                    </span>         huggingface-pytorch-tgi-inference-<span style=\"color: #008080; text-decoration-color: #008080; font-weight: bold\">2024</span>-12-16-16-30-12-294              <span style=\"color: #7f7f7f; text-decoration-color: #7f7f7f\">               </span>\n",
       "</pre>\n"
      ],
      "text/plain": [
       "\u001b[2;36m[12/16/24 11:30:12]\u001b[0m\u001b[2;36m \u001b[0m\u001b[1;38;2;0;105;255mINFO    \u001b[0m Creating model with name:                                              \u001b]8;id=864296;file:///Users/benjaminbasseri/miniforge3/envs/sagemaker/lib/python3.12/site-packages/sagemaker/session.py\u001b\\\u001b[2msession.py\u001b[0m\u001b]8;;\u001b\\\u001b[2m:\u001b[0m\u001b]8;id=381462;file:///Users/benjaminbasseri/miniforge3/envs/sagemaker/lib/python3.12/site-packages/sagemaker/session.py#4025\u001b\\\u001b[2m4025\u001b[0m\u001b]8;;\u001b\\\n",
       "\u001b[2;36m                    \u001b[0m         huggingface-pytorch-tgi-inference-\u001b[1;36m2024\u001b[0m-12-16-16-30-12-294              \u001b[2m               \u001b[0m\n"
      ]
     },
     "metadata": {},
     "output_type": "display_data"
    },
    {
     "data": {
      "text/html": [
       "<pre style=\"white-space:pre;overflow-x:auto;line-height:normal;font-family:Menlo,'DejaVu Sans Mono',consolas,'Courier New',monospace\"><span style=\"color: #7fbfbf; text-decoration-color: #7fbfbf\">[12/16/24 11:30:13] </span><span style=\"color: #0069ff; text-decoration-color: #0069ff; font-weight: bold\">INFO    </span> Creating endpoint-config with name llama-1b-endpoint                   <a href=\"file:///Users/benjaminbasseri/miniforge3/envs/sagemaker/lib/python3.12/site-packages/sagemaker/session.py\" target=\"_blank\"><span style=\"color: #7f7f7f; text-decoration-color: #7f7f7f\">session.py</span></a><span style=\"color: #7f7f7f; text-decoration-color: #7f7f7f\">:</span><a href=\"file:///Users/benjaminbasseri/miniforge3/envs/sagemaker/lib/python3.12/site-packages/sagemaker/session.py#5820\" target=\"_blank\"><span style=\"color: #7f7f7f; text-decoration-color: #7f7f7f\">5820</span></a>\n",
       "</pre>\n"
      ],
      "text/plain": [
       "\u001b[2;36m[12/16/24 11:30:13]\u001b[0m\u001b[2;36m \u001b[0m\u001b[1;38;2;0;105;255mINFO    \u001b[0m Creating endpoint-config with name llama-1b-endpoint                   \u001b]8;id=442865;file:///Users/benjaminbasseri/miniforge3/envs/sagemaker/lib/python3.12/site-packages/sagemaker/session.py\u001b\\\u001b[2msession.py\u001b[0m\u001b]8;;\u001b\\\u001b[2m:\u001b[0m\u001b]8;id=969814;file:///Users/benjaminbasseri/miniforge3/envs/sagemaker/lib/python3.12/site-packages/sagemaker/session.py#5820\u001b\\\u001b[2m5820\u001b[0m\u001b]8;;\u001b\\\n"
      ]
     },
     "metadata": {},
     "output_type": "display_data"
    },
    {
     "data": {
      "text/html": [
       "<pre style=\"white-space:pre;overflow-x:auto;line-height:normal;font-family:Menlo,'DejaVu Sans Mono',consolas,'Courier New',monospace\"><span style=\"color: #7fbfbf; text-decoration-color: #7fbfbf\">                    </span><span style=\"color: #0069ff; text-decoration-color: #0069ff; font-weight: bold\">INFO    </span> Creating endpoint with name llama-1b-endpoint                          <a href=\"file:///Users/benjaminbasseri/miniforge3/envs/sagemaker/lib/python3.12/site-packages/sagemaker/session.py\" target=\"_blank\"><span style=\"color: #7f7f7f; text-decoration-color: #7f7f7f\">session.py</span></a><span style=\"color: #7f7f7f; text-decoration-color: #7f7f7f\">:</span><a href=\"file:///Users/benjaminbasseri/miniforge3/envs/sagemaker/lib/python3.12/site-packages/sagemaker/session.py#4642\" target=\"_blank\"><span style=\"color: #7f7f7f; text-decoration-color: #7f7f7f\">4642</span></a>\n",
       "</pre>\n"
      ],
      "text/plain": [
       "\u001b[2;36m                   \u001b[0m\u001b[2;36m \u001b[0m\u001b[1;38;2;0;105;255mINFO    \u001b[0m Creating endpoint with name llama-1b-endpoint                          \u001b]8;id=404511;file:///Users/benjaminbasseri/miniforge3/envs/sagemaker/lib/python3.12/site-packages/sagemaker/session.py\u001b\\\u001b[2msession.py\u001b[0m\u001b]8;;\u001b\\\u001b[2m:\u001b[0m\u001b]8;id=727695;file:///Users/benjaminbasseri/miniforge3/envs/sagemaker/lib/python3.12/site-packages/sagemaker/session.py#4642\u001b\\\u001b[2m4642\u001b[0m\u001b]8;;\u001b\\\n"
      ]
     },
     "metadata": {},
     "output_type": "display_data"
    },
    {
     "name": "stdout",
     "output_type": "stream",
     "text": [
      "----------!"
     ]
    }
   ],
   "source": [
    "# Create model for serverless inference\n",
    "\n",
    "huggingface_model = HuggingFaceModel(\n",
    "\timage_uri=get_huggingface_llm_image_uri(\"huggingface\", version=\"2.3.1\"),\n",
    "\tenv=hub,\n",
    "\trole=role,\n",
    ")\n",
    "\n",
    "serverless_config = ServerlessInferenceConfig(\n",
    "\tmemory_size_in_mb=6144,\n",
    "\tmax_concurrency=1,\n",
    ")\n",
    "\n",
    "predictor = huggingface_model.deploy(\n",
    "    initial_instance_count=1,\n",
    "    instance_type=\"ml.g5.xlarge\",\n",
    "    serverless_config=serverless_config,\n",
    "\tendpoint_name=\"llama-1b-endpoint\"\n",
    ")\n"
   ]
  },
  {
   "cell_type": "code",
   "execution_count": 21,
   "metadata": {},
   "outputs": [],
   "source": [
    "prompt = \"\"\"\n",
    "References:\n",
    "\\\"\\\"\\\"\n",
    "topology is the branch of topology dealing with the basic set-theoretic definitions and constructions used in topology.<sup id=\\\"cite_ref-11\\\" class=\\\"reference\\\"><a href=\\\"#cite_note-11\\\"><span class=\\\"cite-bracket\\\">&#91;</span>11<span class=\\\"cite-bracket\\\">&#93;</span></a></sup><sup id=\\\"cite_ref-12\\\" class=\\\"reference\\\"><a href=\\\"#cite_note-12\\\"><span class=\\\"cite-bracket\\\">&#91;</span>12<span class=\\\"cite-bracket\\\">&#93;</span></a></sup> It is the foundation of most other branches of topology, including differential topology, geometric topology, and algebraic topology. Another name for general topology is point-set topology.</p><p>The basic object of study is <a href=\\\"/wiki/Topological_space\\\" title=\\\"Topological space\\\">topological spaces</a>, which are sets equipped with a <a href=\\\"/wiki/Topology_(structure)\\\" class=\\\"mw-redirect\\\" title=\\\"Topology (structure)\\\">topology</a>, that is, a family of <a href=\\\"/wiki/Subset\\\" title=\\\"Subset\\\">subsets</a>, called <i>open sets</i>, which is <a\n",
    "###\n",
    "\\\"class=\\\"reference\\\"><a href=\\\"#cite_note-20\\\"><span class=\\\"cite-bracket\\\">&#91;</span>20<span class=\\\"cite-bracket\\\">&#93;</span></a></sup></p><div class=\\\"mw-heading mw-heading3\\\"><h3 id=\\\"Physics\\\">Physics</h3><span class=\\\"mw-editsection\\\"><span class=\\\"mw-editsection-bracket\\\">[</span><a href=\\\"/w/index.php?title=Topology&amp;action=edit&amp;section=16\\\" title=\\\"Edit section: Physics\\\"><span>edit</span></a><span class=\\\"mw-editsection-bracket\\\">]</span></span></div><p>Topology is relevant to physics in areas such as <a href=\\\"/wiki/Condensed_matter_physics\\\" title=\\\"Condensed matter physics\\\">condensed matter physics</a>,<sup id=\\\"cite_ref-21\\\" class=\\\"reference\\\"><a href=\\\"#cite_note-21\\\"><span class=\\\"cite-bracket\\\">&#91;</span>21<span class=\\\"cite-bracket\\\">&#93;</span></a></sup> <a href=\\\"/wiki/Quantum_field_theory\\\" title=\\\"Quantum field theory\\\">quantum field theory</a> and <a href=\\\"/wiki/Physical_cosmology\\\" title=\\\"Physical cosmology\\\">physical cosmology</a>.</p><p>The topological dependence of mechanical\\\n",
    "\\\"\\\"\\\"\n",
    "\n",
    "Does topology have any real-world applications?\n",
    "\"\"\""
   ]
  },
  {
   "cell_type": "code",
   "execution_count": 49,
   "metadata": {},
   "outputs": [
    {
     "name": "stdout",
     "output_type": "stream",
     "text": [
      "(\"Who were Lady Abney's friends? \\n\"\n",
      " 'I am trying to research the history of Lady Abney, a woman who lived in the '\n",
      " '18th century.  I am looking for information on who her friends were.  I am '\n",
      " 'trying to research the history of the family of Abney, who were English '\n",
      " \"aristocrats.  I am looking for information on the family's history, their \"\n",
      " 'social status, and their relationships with other families of the time.  I '\n",
      " 'am also looking for information on the social and cultural norms of the 18th '\n",
      " \"century.  I am trying to research the history of the family's estate, which \"\n",
      " 'was located in the countryside.  I am looking for information on the '\n",
      " \"family's estate, including its layout, its furnishings, and its history of \"\n",
      " \"ownership.  I am also looking for information on the family's social and \"\n",
      " 'cultural norms, including their role in society and their relationships with '\n",
      " 'other families of the time.  I am trying to research the history of the '\n",
      " \"family's estate, including its layout, its furnishings, and its history of \"\n",
      " \"ownership.  I am also looking for information on the family's social and \"\n",
      " 'cultural norms, including their role in society and their relationships with '\n",
      " 'other families of the time.  I am trying to research the history of the '\n",
      " \"family's estate, including its layout, its furnishings, and its history of \"\n",
      " \"ownership.  I am also looking for information on the family's social and \"\n",
      " 'cultural norms, including their role in society and their relationships with '\n",
      " 'other families of the time.  I am trying to research the history of the '\n",
      " \"family's estate, including its layout, its furnishings, and its history of \"\n",
      " \"ownership.  I am also looking for information on the family's social and \"\n",
      " 'cultural norms, including their role in society and their relationships with '\n",
      " 'other families of the time.  I am trying to research the history of the '\n",
      " \"family's estate, including its layout, its furnishings, and its history of \"\n",
      " \"ownership.  I am also looking for information on the family's social and \"\n",
      " 'cultural norms, including their role in society and their relationships with '\n",
      " 'other families of the time.  I am trying to research the history of the '\n",
      " \"family's estate, including its layout, its furnishings, and its history of \"\n",
      " \"ownership.  I am also looking for information on the family's social and \"\n",
      " 'cultural norms, including their role in society and their relationships with '\n",
      " 'other families of the time.  I am trying to research the history of the '\n",
      " \"family's estate, including its layout, its furnishings, and its history of \"\n",
      " 'ownership.  I am')\n"
     ]
    }
   ],
   "source": [
    "\n",
    "response = predictor.predict(\n",
    "    {\n",
    "        \"inputs\": \"Who were Lady Abney's friends?\",\n",
    "        \"parameters\": {\n",
    "            \"max_new_tokens\": 500,\n",
    "            \"temperature\": 0.2,\n",
    "            # \"top_k\": 50,\n",
    "            # \"top_p\": 0.95,\n",
    "        },\n",
    "    }\n",
    ")\n",
    "pprint(response[0]['generated_text'])"
   ]
  },
  {
   "cell_type": "code",
   "execution_count": null,
   "metadata": {},
   "outputs": [
    {
     "name": "stdout",
     "output_type": "stream",
     "text": [
      "('\"class=\\\\\"reference\\\\\"><a href=\\\\\"#cite_note-20\\\\\"><span '\n",
      " 'class=\\\\\"cite-bracket\\\\\">&#91;</span>20<span '\n",
      " 'class=\\\\\"cite-bracket\\\\\">&#93;</span></a></sup></p><div class=\\\\\"mw-heading '\n",
      " 'mw-heading3\\\\\"><h3 id=\\\\\"Physics\\\\\">Physics</h3><span '\n",
      " 'class=\\\\\"mw-editsection\\\\\"><span '\n",
      " 'class=\\\\\"mw-editsection-bracket\\\\\">[</span><a '\n",
      " 'href=\\\\\"/w/index.php?title=Topology&amp;action=edit&amp;section=16\\\\\" '\n",
      " 'title=\\\\\"Edit section: Physics\\\\\"><span>edit</span></a><span '\n",
      " 'class=\\\\\"mw-editsection-bracket\\\\\">]</span></span></div><p>Topology is '\n",
      " 'relevant to physics in areas such as <a '\n",
      " 'href=\\\\\"/wiki/Condensed_matter_physics\\\\\" title=\\\\\"Condensed matter '\n",
      " 'physics\\\\\">condensed matter physics</a>,<sup id=\\\\\"cite_ref-21\\\\\" '\n",
      " 'class=\\\\\"reference\\\\\"><a href=\\\\\"#cite_note-21\\\\\"><span '\n",
      " 'class=\\\\\"cite-bracket\\\\\">&#91;</span>21<span '\n",
      " 'class=\\\\\"cite-bracket\\\\\">&#93;</span></a></sup> <a '\n",
      " 'href=\\\\\"/wiki/Quantum_field_theory\\\\\" title=\\\\\"Quantum field '\n",
      " 'theory\\\\\">quantum field theory</a> and <a '\n",
      " 'href=\\\\\"/wiki/Physical_cosmology\\\\\" title=\\\\\"Physical cosmology\\\\\">physical '\n",
      " 'cosmology</a>.</p><p>The topological dependence of mechanical\"\\n'\n",
      " '\\n'\n",
      " '\"topology is the branch of topology dealing with the basic set-theoretic '\n",
      " 'definitions and constructions used in topology.<sup id=\\\\\"cite_ref-11\\\\\" '\n",
      " 'class=\\\\\"reference\\\\\"><a href=\\\\\"#cite_note-11\\\\\"><span '\n",
      " 'class=\\\\\"cite-bracket\\\\\">&#91;</span>11<span '\n",
      " 'class=\\\\\"cite-bracket\\\\\">&#93;</span></a></sup><sup id=\\\\\"cite_ref-12\\\\\" '\n",
      " 'class=\\\\\"reference\\\\\"><a href=\\\\\"#cite_note-12\\\\\"><span '\n",
      " 'class=\\\\\"cite-bracket\\\\\">&#91;</span>12<span '\n",
      " 'class=\\\\\"cite-bracket\\\\\">&#93;</span></a></sup> It is the foundation of most '\n",
      " 'other branches of topology, including differential topology, geometric '\n",
      " 'topology, and algebraic topology. Another name for general topology is '\n",
      " 'point-set topology.</p><p>The basic object of study is <a '\n",
      " 'href=\\\\\"/wiki/Topological_space\\\\\" title=\\\\\"Topological space\\\\\">topological '\n",
      " 'spaces</a>, which are sets equipped with a <a '\n",
      " 'href=\\\\\"/wiki/Topology_(structure)\\\\\" class=\\\\\"mw-redirect\\\\\" '\n",
      " 'title=\\\\\"Topology (structure)\\\\\">topology</a>, that is, a family of <a '\n",
      " 'href=\\\\\"/wiki/Subset\\\\\" title=\\\\\"Subset\\\\\">subsets</a>, called <i>open '\n",
      " 'sets</i>, which is <a\\n'\n",
      " '\\n'\n",
      " 'Does topology have any real-world applications? Yes, topology has many '\n",
      " 'real-world applications. Here are a few examples:\\n'\n",
      " '\\n'\n",
      " '1. **Computer Graphics**: Topology is used in computer graphics to create 3D '\n",
      " 'models of objects, such as buildings, vehicles, and people. It helps to '\n",
      " 'determine the relationships between different parts of the model and to '\n",
      " 'calculate distances and angles between them.\\n'\n",
      " '2. **Image Processing**: Topology is used in image processing to analyze and '\n",
      " 'manipulate images. It helps to detect edges, shapes, and textures in images, '\n",
      " 'and to perform tasks such as image filtering and compression.\\n'\n",
      " '3. **Network Topology**: Topology is used in network design and analysis to '\n",
      " 'determine the structure of computer networks. It helps to identify the '\n",
      " 'relationships between different devices and to calculate the performance of '\n",
      " 'the network.\\n'\n",
      " '4. **Materials Science**: Topology is used in materials science to study the '\n",
      " 'properties of materials at the atomic and molecular level. It helps to '\n",
      " 'understand the structure and behavior of materials, and to design new '\n",
      " 'materials with specific properties.\\n'\n",
      " '5. **Biology**: Topology is used in biology to study the structure and '\n",
      " 'behavior of biological systems, such as cells, tissues, and organs. It helps '\n",
      " 'to understand the relationships between different components of the system '\n",
      " 'and to identify patterns and structures that are important for function and '\n",
      " 'survival.\\n'\n",
      " '6. **Geology**: Topology is used in geology to study the structure and '\n",
      " 'behavior of geological systems, such as rocks, minerals, and landscapes. It '\n",
      " 'helps to understand the relationships between different components of the '\n",
      " 'system and to identify patterns and structures that are important for '\n",
      " 'understanding geological processes.\\n'\n",
      " '7. **Cryptography**: Topology is used in cryptography to analyze and '\n",
      " 'manipulate cryptographic protocols. It helps to detect and prevent attacks '\n",
      " 'on cryptographic systems, and to design new cryptographic protocols with '\n",
      " 'specific security properties.\\n'\n",
      " '\\n'\n",
      " 'These are just a few examples of the many real-world applications of '\n",
      " 'topology. The field is constantly evolving, and new applications are being '\n",
      " 'discovered all the time.\\n'\n",
      " '\\n'\n",
      " 'References:\\n'\n",
      " '\\n'\n",
      " '* [1] Wikipedia, \"Topology\"\\n'\n",
      " '* [2] Wikipedia, \"Computer graphics\"\\n'\n",
      " '* [3] Wikipedia, \"Image processing\"\\n'\n",
      " '* [4] Wikipedia, \"Network topology\"\\n'\n",
      " '* [5] Wikipedia, \"Materials science\"\\n'\n",
      " '* [6] Wikipedia, \"Biology\"\\n'\n",
      " '* [7] Wikipedia, \"Geology\"\\n'\n",
      " '* [8] Wikipedia, \"Cryptography\"\\n'\n",
      " '\\n'\n",
      " 'I hope this helps! Let me know if you have any other questions.')\n"
     ]
    }
   ],
   "source": [
    "informed_prompt = \"\"\"\\\"class=\\\\\\\"reference\\\\\\\"><a href=\\\\\\\"#cite_note-20\\\\\\\"><span class=\\\\\\\"cite-bracket\\\\\\\">&#91;</span>20<span class=\\\\\\\"cite-bracket\\\\\\\">&#93;</span></a></sup></p><div class=\\\\\\\"mw-heading mw-heading3\\\\\\\"><h3 id=\\\\\\\"Physics\\\\\\\">Physics</h3><span class=\\\\\\\"mw-editsection\\\\\\\"><span class=\\\\\\\"mw-editsection-bracket\\\\\\\">[</span><a href=\\\\\\\"/w/index.php?title=Topology&amp;action=edit&amp;section=16\\\\\\\" title=\\\\\\\"Edit section: Physics\\\\\\\"><span>edit</span></a><span class=\\\\\\\"mw-editsection-bracket\\\\\\\">]</span></span></div><p>Topology is relevant to physics in areas such as <a href=\\\\\\\"/wiki/Condensed_matter_physics\\\\\\\" title=\\\\\\\"Condensed matter physics\\\\\\\">condensed matter physics</a>,<sup id=\\\\\\\"cite_ref-21\\\\\\\" class=\\\\\\\"reference\\\\\\\"><a href=\\\\\\\"#cite_note-21\\\\\\\"><span class=\\\\\\\"cite-bracket\\\\\\\">&#91;</span>21<span class=\\\\\\\"cite-bracket\\\\\\\">&#93;</span></a></sup> <a href=\\\\\\\"/wiki/Quantum_field_theory\\\\\\\" title=\\\\\\\"Quantum field theory\\\\\\\">quantum field theory</a> and <a href=\\\\\\\"/wiki/Physical_cosmology\\\\\\\" title=\\\\\\\"Physical cosmology\\\\\\\">physical cosmology</a>.</p><p>The topological dependence of mechanical\\\"\n",
    "\n",
    "\\\"topology is the branch of topology dealing with the basic set-theoretic definitions and constructions used in topology.<sup id=\\\\\\\"cite_ref-11\\\\\\\" class=\\\\\\\"reference\\\\\\\"><a href=\\\\\\\"#cite_note-11\\\\\\\"><span class=\\\\\\\"cite-bracket\\\\\\\">&#91;</span>11<span class=\\\\\\\"cite-bracket\\\\\\\">&#93;</span></a></sup><sup id=\\\\\\\"cite_ref-12\\\\\\\" class=\\\\\\\"reference\\\\\\\"><a href=\\\\\\\"#cite_note-12\\\\\\\"><span class=\\\\\\\"cite-bracket\\\\\\\">&#91;</span>12<span class=\\\\\\\"cite-bracket\\\\\\\">&#93;</span></a></sup> It is the foundation of most other branches of topology, including differential topology, geometric topology, and algebraic topology. Another name for general topology is point-set topology.</p><p>The basic object of study is <a href=\\\\\\\"/wiki/Topological_space\\\\\\\" title=\\\\\\\"Topological space\\\\\\\">topological spaces</a>, which are sets equipped with a <a href=\\\\\\\"/wiki/Topology_(structure)\\\\\\\" class=\\\\\\\"mw-redirect\\\\\\\" title=\\\\\\\"Topology (structure)\\\\\\\">topology</a>, that is, a family of <a href=\\\\\\\"/wiki/Subset\\\\\\\" title=\\\\\\\"Subset\\\\\\\">subsets</a>, called <i>open sets</i>, which is <a\n",
    "\n",
    "Does topology have any real-world applications?\"\"\"\n",
    "\n",
    "response = predictor.predict(\n",
    "    {\n",
    "        \"inputs\": informed_prompt,\n",
    "        \"parameters\": {\n",
    "            \"max_new_tokens\": 1000,\n",
    "            \"temperature\": 0.2,\n",
    "        },\n",
    "    }\n",
    ")\n",
    "pprint(response[0]['generated_text'])"
   ]
  },
  {
   "cell_type": "code",
   "execution_count": null,
   "metadata": {},
   "outputs": [],
   "source": []
  }
 ],
 "metadata": {
  "kernelspec": {
   "display_name": "SageMaker",
   "language": "python",
   "name": "sagemaker"
  },
  "language_info": {
   "codemirror_mode": {
    "name": "ipython",
    "version": 3
   },
   "file_extension": ".py",
   "mimetype": "text/x-python",
   "name": "python",
   "nbconvert_exporter": "python",
   "pygments_lexer": "ipython3",
   "version": "3.12.7"
  }
 },
 "nbformat": 4,
 "nbformat_minor": 2
}
